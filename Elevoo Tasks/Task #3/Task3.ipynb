{
 "cells": [
  {
   "cell_type": "code",
   "execution_count": 97,
   "id": "c1823d52",
   "metadata": {},
   "outputs": [],
   "source": [
    "import numpy as np\n",
    "import pandas as pd\n",
    "import seaborn as sns\n",
    "import matplotlib.pyplot as plt"
   ]
  },
  {
   "cell_type": "code",
   "execution_count": 98,
   "id": "7b535ff1",
   "metadata": {},
   "outputs": [],
   "source": [
    "columns = [\n",
    "    \"Elevation\", \"Aspect\", \"Slope\",\n",
    "    \"Horizontal_Distance_To_Hydrology\", \"Vertical_Distance_To_Hydrology\",\n",
    "    \"Horizontal_Distance_To_Roadways\", \"Hillshade_9am\", \"Hillshade_Noon\", \"Hillshade_3pm\",\n",
    "    \"Horizontal_Distance_To_Fire_Points\"\n",
    "]\n",
    "\n",
    "columns += [f\"Wilderness_Area{i}\" for i in range(1, 5)]\n",
    "\n",
    "columns += [f\"Soil_Type{i}\" for i in range(1, 41)]\n",
    "\n",
    "columns += [\"Cover_Type\"]\n",
    "\n",
    "df = pd.read_csv(r\"D:\\Elevoo Tasks\\Task #3\\forest_dataset.csv\", names=columns)"
   ]
  },
  {
   "cell_type": "code",
   "execution_count": 99,
   "id": "2c831079",
   "metadata": {},
   "outputs": [
    {
     "name": "stdout",
     "output_type": "stream",
     "text": [
      "<class 'pandas.core.frame.DataFrame'>\n",
      "RangeIndex: 10001 entries, 0 to 10000\n",
      "Data columns (total 55 columns):\n",
      " #   Column                              Non-Null Count  Dtype\n",
      "---  ------                              --------------  -----\n",
      " 0   Elevation                           10001 non-null  int64\n",
      " 1   Aspect                              10001 non-null  int64\n",
      " 2   Slope                               10001 non-null  int64\n",
      " 3   Horizontal_Distance_To_Hydrology    10001 non-null  int64\n",
      " 4   Vertical_Distance_To_Hydrology      10001 non-null  int64\n",
      " 5   Horizontal_Distance_To_Roadways     10001 non-null  int64\n",
      " 6   Hillshade_9am                       10001 non-null  int64\n",
      " 7   Hillshade_Noon                      10001 non-null  int64\n",
      " 8   Hillshade_3pm                       10001 non-null  int64\n",
      " 9   Horizontal_Distance_To_Fire_Points  10001 non-null  int64\n",
      " 10  Wilderness_Area1                    10001 non-null  int64\n",
      " 11  Wilderness_Area2                    10001 non-null  int64\n",
      " 12  Wilderness_Area3                    10001 non-null  int64\n",
      " 13  Wilderness_Area4                    10001 non-null  int64\n",
      " 14  Soil_Type1                          10001 non-null  int64\n",
      " 15  Soil_Type2                          10001 non-null  int64\n",
      " 16  Soil_Type3                          10001 non-null  int64\n",
      " 17  Soil_Type4                          10001 non-null  int64\n",
      " 18  Soil_Type5                          10001 non-null  int64\n",
      " 19  Soil_Type6                          10001 non-null  int64\n",
      " 20  Soil_Type7                          10001 non-null  int64\n",
      " 21  Soil_Type8                          10001 non-null  int64\n",
      " 22  Soil_Type9                          10001 non-null  int64\n",
      " 23  Soil_Type10                         10001 non-null  int64\n",
      " 24  Soil_Type11                         10001 non-null  int64\n",
      " 25  Soil_Type12                         10001 non-null  int64\n",
      " 26  Soil_Type13                         10001 non-null  int64\n",
      " 27  Soil_Type14                         10001 non-null  int64\n",
      " 28  Soil_Type15                         10001 non-null  int64\n",
      " 29  Soil_Type16                         10001 non-null  int64\n",
      " 30  Soil_Type17                         10001 non-null  int64\n",
      " 31  Soil_Type18                         10001 non-null  int64\n",
      " 32  Soil_Type19                         10001 non-null  int64\n",
      " 33  Soil_Type20                         10001 non-null  int64\n",
      " 34  Soil_Type21                         10001 non-null  int64\n",
      " 35  Soil_Type22                         10001 non-null  int64\n",
      " 36  Soil_Type23                         10001 non-null  int64\n",
      " 37  Soil_Type24                         10001 non-null  int64\n",
      " 38  Soil_Type25                         10001 non-null  int64\n",
      " 39  Soil_Type26                         10001 non-null  int64\n",
      " 40  Soil_Type27                         10001 non-null  int64\n",
      " 41  Soil_Type28                         10001 non-null  int64\n",
      " 42  Soil_Type29                         10001 non-null  int64\n",
      " 43  Soil_Type30                         10001 non-null  int64\n",
      " 44  Soil_Type31                         10001 non-null  int64\n",
      " 45  Soil_Type32                         10001 non-null  int64\n",
      " 46  Soil_Type33                         10001 non-null  int64\n",
      " 47  Soil_Type34                         10001 non-null  int64\n",
      " 48  Soil_Type35                         10001 non-null  int64\n",
      " 49  Soil_Type36                         10001 non-null  int64\n",
      " 50  Soil_Type37                         10001 non-null  int64\n",
      " 51  Soil_Type38                         10001 non-null  int64\n",
      " 52  Soil_Type39                         10001 non-null  int64\n",
      " 53  Soil_Type40                         10001 non-null  int64\n",
      " 54  Cover_Type                          10001 non-null  int64\n",
      "dtypes: int64(55)\n",
      "memory usage: 4.2 MB\n"
     ]
    }
   ],
   "source": [
    "df.info()"
   ]
  },
  {
   "cell_type": "code",
   "execution_count": 100,
   "id": "21c3812e",
   "metadata": {},
   "outputs": [],
   "source": [
    "from sklearn.model_selection import train_test_split\n",
    "X = df.drop('Cover_Type' , axis=1)\n",
    "y = df['Cover_Type']\n",
    "X_train , X_test , y_train , y_test = train_test_split(X,y,test_size=0.2)"
   ]
  },
  {
   "cell_type": "code",
   "execution_count": 101,
   "id": "0055fdfc",
   "metadata": {},
   "outputs": [
    {
     "name": "stderr",
     "output_type": "stream",
     "text": [
      "d:\\anaconda\\Lib\\site-packages\\sklearn\\model_selection\\_split.py:805: UserWarning: The least populated class in y has only 1 members, which is less than n_splits=5.\n",
      "  warnings.warn(\n"
     ]
    },
    {
     "data": {
      "text/plain": [
       "np.float64(71.25295852073964)"
      ]
     },
     "execution_count": 101,
     "metadata": {},
     "output_type": "execute_result"
    }
   ],
   "source": [
    "from sklearn.tree import DecisionTreeClassifier\n",
    "from sklearn.model_selection import cross_val_score\n",
    "dt = cross_val_score(DecisionTreeClassifier() , X, y, cv=5)\n",
    "dt.mean()*100"
   ]
  },
  {
   "cell_type": "code",
   "execution_count": 102,
   "id": "c8a672a0",
   "metadata": {},
   "outputs": [
    {
     "name": "stderr",
     "output_type": "stream",
     "text": [
      "d:\\anaconda\\Lib\\site-packages\\sklearn\\model_selection\\_split.py:805: UserWarning: The least populated class in y has only 1 members, which is less than n_splits=5.\n",
      "  warnings.warn(\n"
     ]
    },
    {
     "data": {
      "text/plain": [
       "np.float64(80.16195902048976)"
      ]
     },
     "execution_count": 102,
     "metadata": {},
     "output_type": "execute_result"
    }
   ],
   "source": [
    "from sklearn.ensemble import RandomForestClassifier\n",
    "rf = cross_val_score(RandomForestClassifier(n_estimators=100 , random_state=42) , X, y, cv=5)\n",
    "rf.mean()*100"
   ]
  },
  {
   "cell_type": "code",
   "execution_count": 103,
   "id": "6a2de308",
   "metadata": {},
   "outputs": [],
   "source": [
    "from sklearn.ensemble import RandomForestClassifier\n",
    "model = RandomForestClassifier()\n",
    "model.fit(X_train,y_train)\n",
    "y_pred = model.predict(X_test)"
   ]
  },
  {
   "cell_type": "code",
   "execution_count": 104,
   "id": "d69a964a",
   "metadata": {},
   "outputs": [
    {
     "data": {
      "text/plain": [
       "79.91004497751123"
      ]
     },
     "execution_count": 104,
     "metadata": {},
     "output_type": "execute_result"
    }
   ],
   "source": [
    "from sklearn.metrics import accuracy_score , confusion_matrix\n",
    "accuracy_score(y_test,y_pred)*100"
   ]
  },
  {
   "cell_type": "code",
   "execution_count": 105,
   "id": "46d27ced",
   "metadata": {},
   "outputs": [
    {
     "data": {
      "text/plain": [
       "<Axes: >"
      ]
     },
     "execution_count": 105,
     "metadata": {},
     "output_type": "execute_result"
    },
    {
     "data": {
      "image/png": "[encoded data removed]",
      "text/plain": [
       "<Figure size 1000x600 with 2 Axes>"
      ]
     },
     "metadata": {},
     "output_type": "display_data"
    }
   ],
   "source": [
    "plt.figure(figsize=(10,6))\n",
    "cm = confusion_matrix(y_test , y_pred)\n",
    "sns.heatmap(cm , annot=True , cmap='coolwarm')"
   ]
  }
 ],
 "metadata": {
  "kernelspec": {
   "display_name": "base",
   "language": "python",
   "name": "python3"
  },
  "language_info": {
   "codemirror_mode": {
    "name": "ipython",
    "version": 3
   },
   "file_extension": ".py",
   "mimetype": "text/x-python",
   "name": "python",
   "nbconvert_exporter": "python",
   "pygments_lexer": "ipython3",
   "version": "3.13.5"
  }
 },
 "nbformat": 4,
 "nbformat_minor": 5
}
